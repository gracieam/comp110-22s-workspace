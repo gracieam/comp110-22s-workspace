{
 "cells": [
  {
   "cell_type": "markdown",
   "metadata": {},
   "source": [
    "# Processing Shakespeare\n",
    "\n",
    "Counting all the letters in shakespeares' works!\n",
    "\n",
    "First step is to read each line of the text file into a list of strings."
   ]
  },
  {
   "cell_type": "code",
   "execution_count": 1,
   "metadata": {},
   "outputs": [
    {
     "name": "stdout",
     "output_type": "stream",
     "text": [
      "124198\n"
     ]
    }
   ],
   "source": [
    "from io import TextIOWrapper\n",
    "\n",
    "def read_lines(filename: str) -> list[str]:\n",
    "    \"\"\"Read a text file into a list of strings for each line.\"\"\"\n",
    "    lines: list[str] = []\n",
    "    file_handle: TextIOWrapper = open(filename, \"r\")\n",
    "    for line in file_handle:\n",
    "        line = line.strip()\n",
    "        line = line.lower()\n",
    "        lines.append(line)\n",
    "    return lines\n",
    "shakespeares_lines: list[str] = read_lines(\"./shakespeare.txt\")\n",
    "print(len(shakespeares_lines))\n"
   ]
  },
  {
   "cell_type": "code",
   "execution_count": 2,
   "metadata": {},
   "outputs": [
    {
     "name": "stdout",
     "output_type": "stream",
     "text": [
      "['', '1609', '', 'the sonnets', '']\n"
     ]
    }
   ],
   "source": [
    "# Example of \"Slicw Notation\"\n",
    "\n",
    "print(shakespeares_lines[0:5])"
   ]
  },
  {
   "cell_type": "markdown",
   "metadata": {},
   "source": [
    "The next step of our analysis is to count all of the letters in SHakespear's complete body of work"
   ]
  },
  {
   "cell_type": "code",
   "execution_count": 3,
   "metadata": {},
   "outputs": [
    {
     "name": "stdout",
     "output_type": "stream",
     "text": [
      "{'t': 328992, 'h': 236587, 'e': 446156, 's': 248522, 'o': 313895, 'n': 242752, 'b': 61788, 'y': 94173, 'w': 89288, 'i': 253332, 'l': 169660, 'a': 288597, 'm': 111221, 'k': 35364, 'p': 58251, 'r': 237252, 'f': 80336, 'c': 87840, 'u': 128697, 'd': 149128, 'g': 68054, 'v': 37497, 'z': 1626, 'x': 5218, 'q': 3577, 'j': 4752}\n"
     ]
    }
   ],
   "source": [
    "# Write a function named 'tallyl\"\n",
    "# Given a reference to a dictionary and a key:\n",
    "# Increase the value stored at the key by 1 if the key exists\n",
    "# Otherwise set key's initial value to zero\n",
    "# Function that returns none\n",
    "\n",
    "def tally(ref_dict: dict[str, int], key: str) -> None:\n",
    "    \"\"\"Mutate counts by incrementing value stored at key by 1.\"\"\"\n",
    "    if key in ref_dict:\n",
    "        ref_dict[key] += 1\n",
    "    else:\n",
    "        ref_dict[key] = 1\n",
    "\n",
    "def count_letters(lines: list[str]) -> dict[str, int]:\n",
    "    \"\"\"Count the frequency of all letters in a list of strings.\"\"\"\n",
    "    counts: dict[str, int] = {}\n",
    "    for line in lines:\n",
    "        for char in line:\n",
    "            if char.isalpha():\n",
    "                tally(counts, char)\n",
    "    return counts\n",
    "\n",
    "shakespeare_counts: dict[str, int] = count_letters(shakespeares_lines)\n",
    "print(shakespeare_counts)\n"
   ]
  },
  {
   "cell_type": "markdown",
   "metadata": {},
   "source": [
    "Visualize with a bar chart this data about character frequnecies."
   ]
  },
  {
   "cell_type": "code",
   "execution_count": 5,
   "metadata": {},
   "outputs": [
    {
     "data": {
      "text/plain": [
       "<BarContainer object of 26 artists>"
      ]
     },
     "execution_count": 5,
     "metadata": {},
     "output_type": "execute_result"
    },
    {
     "data": {
      "image/png": "[encoded data removed]",
      "text/plain": [
       "<Figure size 432x288 with 1 Axes>"
      ]
     },
     "metadata": {
      "needs_background": "light"
     },
     "output_type": "display_data"
    }
   ],
   "source": [
    "from matplotlib import pyplot\n",
    "\n",
    "shakespeare_counts = dict(sorted(shakespeare_counts.items()))\n",
    "\n",
    "pyplot.title(\"Frequencies of letters in Shakepspeare\")\n",
    "pyplot.xlabel(\"Letters\")\n",
    "pyplot.ylabel(\"Counts\")\n",
    "labels: list[str] = list(shakespeare_counts.keys())\n",
    "values: list[int] = list(shakespeare_counts.values())\n",
    "pyplot.bar(labels, values)\n",
    "\n"
   ]
  },
  {
   "cell_type": "code",
   "execution_count": 7,
   "metadata": {},
   "outputs": [
    {
     "data": {
      "text/plain": [
       "dict_items([('a', 288597), ('b', 61788), ('c', 87840), ('d', 149128), ('e', 446156), ('f', 80336), ('g', 68054), ('h', 236587), ('i', 253332), ('j', 4752), ('k', 35364), ('l', 169660), ('m', 111221), ('n', 242752), ('o', 313895), ('p', 58251), ('q', 3577), ('r', 237252), ('s', 248522), ('t', 328992), ('u', 128697), ('v', 37497), ('w', 89288), ('x', 5218), ('y', 94173), ('z', 1626)])"
      ]
     },
     "execution_count": 7,
     "metadata": {},
     "output_type": "execute_result"
    }
   ],
   "source": [
    "shakespeare_counts.items()"
   ]
  },
  {
   "cell_type": "code",
   "execution_count": null,
   "metadata": {},
   "outputs": [],
   "source": [
    "example_tuples: list[tuple[str, int]] = [\n",
    "    ('spring', 110), \n",
    "    ('break', 100000)\n",
    "]\n",
    "\n",
    "dict_from_tuples: dict[str, int] = dict(example_tuples)\n",
    "dict_from_tuples"
   ]
  }
 ],
 "metadata": {
  "interpreter": {
   "hash": "aee8b7b246df8f9039afb4144a1f6fd8d2ca17a180786b69acc140d282b71a49"
  },
  "kernelspec": {
   "display_name": "Python 3.10.1 64-bit",
   "language": "python",
   "name": "python3"
  },
  "language_info": {
   "codemirror_mode": {
    "name": "ipython",
    "version": 3
   },
   "file_extension": ".py",
   "mimetype": "text/x-python",
   "name": "python",
   "nbconvert_exporter": "python",
   "pygments_lexer": "ipython3",
   "version": "3.10.1"
  },
  "orig_nbformat": 4
 },
 "nbformat": 4,
 "nbformat_minor": 2
}
